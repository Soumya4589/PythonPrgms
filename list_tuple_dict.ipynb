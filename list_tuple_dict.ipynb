{
 "cells": [
  {
   "cell_type": "code",
   "execution_count": 6,
   "metadata": {},
   "outputs": [
    {
     "name": "stdout",
     "output_type": "stream",
     "text": [
      "[1, 2, 3, 4, 5]\n",
      "(6, 7, 8, 9, 10)\n",
      "{1: 'Apple', 2: 'Banana', 3: 'Orange'}\n",
      "\n",
      " Assinging elements to different lists\n",
      "[1, 2, [2.1, 2.2, 2.3], 4, 5]\n",
      "[1, 2, [2.1, 2.2, 2.3], 4, 5, 6]\n",
      "\n",
      " Accessing elements from a tuple\n",
      "9\n",
      "(6, 7, 8, 9, 10)\n",
      "(8, 9, 10)\n",
      "(10, 9, 8, 7, 6)\n",
      "\n",
      " Deleting elements from Dictionary\n",
      "{1: 'Apple', 2: 'Banana', 3: 'Orange'}\n",
      "After deleting a element the dictionary:  {2: 'Banana', 3: 'Orange'}\n",
      "After clearing:  {}\n",
      "Dictionary  dict1 does not exist\n"
     ]
    }
   ],
   "source": [
    "list1=[1,2,3,4,5] #List of 5 elements\n",
    "tuple1=(6,7,8,9,10)#Tuple of 5 elements\n",
    "dict1={1:'Apple',2:'Banana',3:'Orange'} #Dictionary of 3 key-value pair\n",
    "print(list1)\n",
    "print(tuple1)\n",
    "print(dict1)\n",
    "\n",
    "#Assigning elements to different lists\n",
    "print(\"\\n Assinging elements to different lists\")\n",
    "list2=list1 # Assigning all list 1 elements to list2-using refrence\n",
    "list1[2]=[2.1,2.2,2.3]#Adding another list at 2nd index of list1 using slicing\n",
    "print(list1)\n",
    "list2.append(6) #Appending value 6 to list2\n",
    "print(list2)\n",
    "\n",
    "#Accessing elements from a tuple\n",
    "print(\"\\n Accessing elements from a tuple\")\n",
    "print(tuple1[3]) #Accessing the 3rd index element\n",
    "print(tuple1[:]) #Accessing all the elements in the tuple\n",
    "print(tuple1[2:5])#Elements from 2nd index to 4th index(5-1)\n",
    "print(tuple1[-1::-1])#Elements in the reverse order\n",
    "\n",
    "#Deleting elements from dictionary\n",
    "print(\"\\n Deleting elements from Dictionary\")\n",
    "print(dict1)\n",
    "del dict1[1] #Deletes the key-value pair with key '1'\n",
    "print(\"After deleting a element the dictionary: \", dict1)\n",
    "dict1.clear() #Deletes all entries\n",
    "print(\"After clearing: \", dict1)\n",
    "del dict1 #Deleting the dictionary variable\n",
    "print(\"Dictionary  dict1 does not exist\")\n",
    "#print(dict1)\n",
    "\n",
    "\n"
   ]
  },
  {
   "cell_type": "code",
   "execution_count": null,
   "metadata": {},
   "outputs": [],
   "source": []
  }
 ],
 "metadata": {
  "kernelspec": {
   "display_name": "Python 3",
   "language": "python",
   "name": "python3"
  },
  "language_info": {
   "codemirror_mode": {
    "name": "ipython",
    "version": 3
   },
   "file_extension": ".py",
   "mimetype": "text/x-python",
   "name": "python",
   "nbconvert_exporter": "python",
   "pygments_lexer": "ipython3",
   "version": "3.7.6"
  }
 },
 "nbformat": 4,
 "nbformat_minor": 4
}
