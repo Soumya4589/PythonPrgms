{
 "cells": [
  {
   "cell_type": "code",
   "execution_count": 1,
   "metadata": {},
   "outputs": [
    {
     "name": "stdout",
     "output_type": "stream",
     "text": [
      "Enter 5 integers(+ve/-ve) to be added in list\n",
      "Enter a integer: 12\n",
      "Enter a integer: -7\n",
      "Enter a integer: 5\n",
      "Enter a integer: 64\n",
      "Enter a integer: -14\n",
      "The Original List is:  [12, -7, 5, 64, -14]\n",
      "The list of positive integers:  [12, 5, 64]\n"
     ]
    }
   ],
   "source": [
    "l1=[] #Creating a empty list\n",
    "print(\"Enter 5 integers(+ve/-ve) to be added in list\")\n",
    "#A loop to get the elements from the user\n",
    "for i in range (0,5):\n",
    "    x=int(input(\"Enter a integer: \")) #Getting the value from user\n",
    "    l1.append(x) #Appending those values to the list\n",
    "print(\"The Original List is: \", l1) #The original list\n",
    "lp=[] #A empty list to store the positive values from list l1\n",
    "#A loop to check for positive values in l1 & append them to lp\n",
    "\n",
    "for i in l1:\n",
    "    if(i>0): #If condition to check for positive int\n",
    "        lp.append(i) # appending the value to list lp\n",
    "print(\"The list of positive integers: \", lp) #Printing the list lp\n",
    "    \n"
   ]
  },
  {
   "cell_type": "code",
   "execution_count": null,
   "metadata": {},
   "outputs": [],
   "source": []
  },
  {
   "cell_type": "code",
   "execution_count": null,
   "metadata": {},
   "outputs": [],
   "source": []
  }
 ],
 "metadata": {
  "kernelspec": {
   "display_name": "Python 3",
   "language": "python",
   "name": "python3"
  },
  "language_info": {
   "codemirror_mode": {
    "name": "ipython",
    "version": 3
   },
   "file_extension": ".py",
   "mimetype": "text/x-python",
   "name": "python",
   "nbconvert_exporter": "python",
   "pygments_lexer": "ipython3",
   "version": "3.7.6"
  }
 },
 "nbformat": 4,
 "nbformat_minor": 4
}
